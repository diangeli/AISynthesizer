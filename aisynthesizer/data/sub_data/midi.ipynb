{
 "cells": [
  {
   "cell_type": "code",
   "execution_count": 31,
   "metadata": {},
   "outputs": [],
   "source": [
    "import os\n",
    "import mido\n",
    "import random"
   ]
  },
  {
   "cell_type": "code",
   "execution_count": 48,
   "metadata": {},
   "outputs": [],
   "source": [
    "def create_all_notes_midi(output_filename:str, meta_track, duration:int):\n",
    "\n",
    "    # Create a new MIDI file\n",
    "    midi = mido.MidiFile()\n",
    "\n",
    "    # Add a track to the MIDI file\n",
    "    track = mido.MidiTrack()\n",
    "    # midi.tracks.append(meta_track)\n",
    "    midi.tracks.append(track)\n",
    "\n",
    "    # Set the tempo (optional)\n",
    "    track.append(mido.MetaMessage('set_tempo', tempo=500000))\n",
    "\n",
    "    # Add notes to the track\n",
    "    for i in range(19, 108):\n",
    "        # Random note\n",
    "        note = i # Note can go from 0 to 127 but we focus on middle octaves\n",
    "\n",
    "        # Note on message \n",
    "        note_on = mido.Message('note_on', note=note, velocity=64, time=480)  # 1 second (480 ticks at 500000 microseconds per beat)\n",
    "        track.append(note_on)\n",
    "        \n",
    "        # Note off message \n",
    "        note_off = mido.Message('note_off', note=note, velocity=0, time=480)  # 1 second (480 ticks)\n",
    "        track.append(note_off)\n",
    "\n",
    "    # Save the MIDI file\n",
    "    midi.save(output_filename)\n",
    "\n",
    "meta_track = mido.MidiFile('midi2video/example.mid').tracks[0]\n",
    "create_all_notes_midi('test.mid', meta_track, 128)"
   ]
  },
  {
   "cell_type": "code",
   "execution_count": 46,
   "metadata": {},
   "outputs": [],
   "source": [
    "def create_random_midi(output_filename:str, duration:int):\n",
    "\n",
    "    # Create a new MIDI file\n",
    "    midi = mido.MidiFile()\n",
    "\n",
    "    # Add a track to the MIDI file\n",
    "    track = mido.MidiTrack()\n",
    "    midi.tracks.append(track)\n",
    "\n",
    "    # # Set the tempo (optional)\n",
    "    track.append(mido.MetaMessage('set_tempo', tempo=500000))\n",
    "\n",
    "    # Start note\n",
    "    start_note = 19\n",
    "\n",
    "    # Note on message \n",
    "    note_on = mido.Message('note_on', note=start_note, velocity=64, time=480)  # 1 second (480 ticks at 500000 microseconds per beat)\n",
    "    track.append(note_on)\n",
    "    \n",
    "    # Note off message \n",
    "    note_off = mido.Message('note_off', note=start_note, velocity=0, time=480)  # 1 second (480 ticks)\n",
    "    track.append(note_off)\n",
    "\n",
    "    # Add notes to the track\n",
    "    for _ in range(duration):\n",
    "        # Random note\n",
    "        note = int(19+random.random()*88) # Note can go from 20 to 108 (piano has 88 notes)\n",
    "\n",
    "        # Note on message \n",
    "        note_on = mido.Message('note_on', note=note, velocity=64, time=480) \n",
    "        track.append(note_on)\n",
    "        \n",
    "        # Note off message \n",
    "        note_off = mido.Message('note_off', note=note, velocity=0, time=480) \n",
    "        track.append(note_off)\n",
    "\n",
    "    # End note\n",
    "    end_note = 107\n",
    "\n",
    "    # Note on message \n",
    "    note_on = mido.Message('note_on', note=end_note, velocity=64, time=480)  # 1 second (480 ticks at 500000 microseconds per beat)\n",
    "    track.append(note_on)\n",
    "    \n",
    "    # Note off message \n",
    "    note_off = mido.Message('note_off', note=end_note, velocity=0, time=480)  # 1 second (480 ticks)\n",
    "    track.append(note_off)\n",
    "\n",
    "    # Save the MIDI file\n",
    "    midi.save(output_filename)\n"
   ]
  },
  {
   "cell_type": "code",
   "execution_count": 47,
   "metadata": {},
   "outputs": [],
   "source": [
    "output_folder = 'dataset'\n",
    "number_of_tracks = 3600\n",
    "track_duration = 3\n",
    "\n",
    "if not os.path.exists(output_folder):\n",
    "    os.makedirs(output_folder)\n",
    "\n",
    "# meta_track = mido.MidiFile('midi2video/example.mid').tracks[0]\n",
    "\n",
    "track_counter = 0\n",
    "for i in range(number_of_tracks):\n",
    "    output_path = os.path.join(output_folder, f'track_{track_counter}.mid')\n",
    "    create_random_midi(output_path, track_duration)\n",
    "    track_counter += 1"
   ]
  },
  {
   "cell_type": "code",
   "execution_count": 35,
   "metadata": {},
   "outputs": [
    {
     "name": "stdout",
     "output_type": "stream",
     "text": [
      "MidiTrack([\n",
      "  MetaMessage('set_tempo', tempo=600000, time=0),\n",
      "  Message('note_on', channel=0, note=19, velocity=64, time=480),\n",
      "  Message('note_off', channel=0, note=19, velocity=0, time=480),\n",
      "  Message('note_on', channel=0, note=22, velocity=64, time=480),\n",
      "  Message('note_off', channel=0, note=22, velocity=0, time=480),\n",
      "  Message('note_on', channel=0, note=73, velocity=64, time=480),\n",
      "  Message('note_off', channel=0, note=73, velocity=0, time=480),\n",
      "  Message('note_on', channel=0, note=51, velocity=64, time=480),\n",
      "  Message('note_off', channel=0, note=51, velocity=0, time=480),\n",
      "  Message('note_on', channel=0, note=107, velocity=64, time=480),\n",
      "  Message('note_off', channel=0, note=107, velocity=0, time=480),\n",
      "  MetaMessage('end_of_track', time=0)])\n"
     ]
    }
   ],
   "source": [
    "mid = mido.MidiFile('dataset/track_8.mid')\n",
    "\n",
    "for tracks in mid.tracks:\n",
    "\n",
    "    print(tracks)"
   ]
  },
  {
   "cell_type": "code",
   "execution_count": null,
   "metadata": {},
   "outputs": [],
   "source": []
  }
 ],
 "metadata": {
  "kernelspec": {
   "display_name": "adlcvproject",
   "language": "python",
   "name": "python3"
  },
  "language_info": {
   "codemirror_mode": {
    "name": "ipython",
    "version": 3
   },
   "file_extension": ".py",
   "mimetype": "text/x-python",
   "name": "python",
   "nbconvert_exporter": "python",
   "pygments_lexer": "ipython3",
   "version": "3.10.13"
  }
 },
 "nbformat": 4,
 "nbformat_minor": 2
}
