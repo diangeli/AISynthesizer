{
 "cells": [
  {
   "cell_type": "code",
   "execution_count": 13,
   "metadata": {},
   "outputs": [],
   "source": [
    "import torch\n",
    "import torch.nn as nn\n",
    "import torch.optim as optim\n",
    "from torch.utils.data import Dataset, DataLoader, random_split\n",
    "from torchvision.transforms import ToTensor\n",
    "import torchvision.transforms as transforms\n",
    "import numpy as np\n",
    "import os\n",
    "from PIL import Image\n",
    "import matplotlib.pyplot as plt\n",
    "from tqdm import tqdm"
   ]
  },
  {
   "cell_type": "code",
   "execution_count": 2,
   "metadata": {},
   "outputs": [],
   "source": [
    "class FramesDataset(Dataset):\n",
    "    def __init__(self, frames_dir, class_num, transforms=None):\n",
    "        self.frames_dir = frames_dir\n",
    "        self.transforms = transforms\n",
    "        self.class_num = class_num\n",
    "\n",
    "        self.frames = [[os.path.join(frames_dir, file), file.split('.')[0].split('_')] for file in os.listdir(frames_dir)]\n",
    "        \n",
    "    def __len__(self):\n",
    "        return len(self.frames)\n",
    "\n",
    "    def __getitem__(self, idx):\n",
    "        frame_path = self.frames[idx][0]\n",
    "        frame_tensor = self.transforms(self.load_frame(frame_path))\n",
    "        labels = self.frames[idx][1]\n",
    "        label_tensor = self.get_label(labels)\n",
    "        return [frame_tensor, label_tensor]\n",
    "\n",
    "    def load_frame(self, frame_path):\n",
    "        frame = (Image.open(frame_path))\n",
    "        return frame\n",
    "    \n",
    "    def get_label(self, label):\n",
    "        tensor_label = torch.zeros(self.class_num)\n",
    "        for i in range(len(label)):\n",
    "            tensor_label[int(label[i])] = 1\n",
    "        return tensor_label\n"
   ]
  },
  {
   "cell_type": "code",
   "execution_count": 3,
   "metadata": {},
   "outputs": [
    {
     "data": {
      "text/plain": [
       "device(type='cuda')"
      ]
     },
     "execution_count": 3,
     "metadata": {},
     "output_type": "execute_result"
    }
   ],
   "source": [
    "device = torch.device('cuda' if torch.cuda.is_available() else 'cpu')\n",
    "device"
   ]
  },
  {
   "cell_type": "code",
   "execution_count": 5,
   "metadata": {},
   "outputs": [],
   "source": [
    "# Define transforms for the images\n",
    "transform = transforms.Compose([\n",
    "    transforms.Resize((224, 224)), \n",
    "    transforms.ToTensor(),  \n",
    "    transforms.Normalize(mean=[0.5, 0.5, 0.5], std=[0.5, 0.5, 0.5]),\n",
    "])\n",
    "\n",
    "dataset = FramesDataset('note_frames_multi/', 91, transforms=transform)\n",
    "# train_loader = DataLoader(dataset, batch_size=4, shuffle=True, num_workers=2)\n",
    "\n",
    "train_size = int(0.8 * len(dataset))\n",
    "test_size = len(dataset) - train_size\n",
    "train_dataset, test_dataset = random_split(dataset, [train_size, test_size])\n",
    "\n",
    "train_loader = DataLoader(train_dataset, batch_size=4, shuffle=True, num_workers=2)\n",
    "test_loader = DataLoader(test_dataset, batch_size=4, shuffle=False, num_workers=2)"
   ]
  },
  {
   "cell_type": "code",
   "execution_count": 6,
   "metadata": {},
   "outputs": [
    {
     "name": "stdout",
     "output_type": "stream",
     "text": [
      "torch.Size([4, 91])\n"
     ]
    }
   ],
   "source": [
    "for i, data in enumerate(train_loader, 0):\n",
    "        inputs, labels = data\n",
    "        print(labels.shape)\n",
    "        break"
   ]
  },
  {
   "cell_type": "code",
   "execution_count": 7,
   "metadata": {},
   "outputs": [],
   "source": [
    "class SimpleCNN(nn.Module):\n",
    "    def __init__(self, num_classes=91):\n",
    "        super(SimpleCNN, self).__init__()\n",
    "        self.conv1 = nn.Conv2d(3, 6, kernel_size=5)  # 3 input channels (RGB), 6 output channels, 5x5 kernel\n",
    "        self.pool = nn.MaxPool2d(2, 2)  # Max pooling layer with kernel size 2x2 and stride 2\n",
    "        self.conv2 = nn.Conv2d(6, 16, kernel_size=5)  # 6 input channels (output of previous conv layer), 16 output channels, 5x5 kernel\n",
    "        self.fc1 = nn.Linear(16 * 53 * 53, 120)  # Fully connected layer with 16*53*53 input features (after convolutions and pooling), 120 output features\n",
    "        self.fc2 = nn.Linear(120, 84)  # Fully connected layer with 120 input features, 84 output features\n",
    "        self.fc3 = nn.Linear(84, num_classes)  # Fully connected layer with 84 input features, num_classes output features\n",
    "\n",
    "    def forward(self, x):\n",
    "        x = self.pool(torch.relu(self.conv1(x)))  # Apply first convolution, ReLU activation, and max pooling\n",
    "        x = self.pool(torch.relu(self.conv2(x)))  # Apply second convolution, ReLU activation, and max pooling\n",
    "        x = x.view(-1, 16 * 53 * 53)  # Flatten the tensor for input to fully connected layers\n",
    "        x = torch.relu(self.fc1(x))  # Apply first fully connected layer and ReLU activation\n",
    "        x = torch.relu(self.fc2(x))  # Apply second fully connected layer and ReLU activation\n",
    "        x = self.fc3(x) # Apply third fully connected layer (no activation)\n",
    "        return x"
   ]
  },
  {
   "cell_type": "code",
   "execution_count": 21,
   "metadata": {},
   "outputs": [
    {
     "name": "stderr",
     "output_type": "stream",
     "text": [
      "  0%|          | 0/100 [00:00<?, ?epoch/s]"
     ]
    },
    {
     "name": "stderr",
     "output_type": "stream",
     "text": [
      "  1%|          | 1/100 [00:02<03:21,  2.03s/epoch]"
     ]
    },
    {
     "name": "stdout",
     "output_type": "stream",
     "text": [
      "Epoch [1/100],Test Loss: 0.21423651\n",
      "Epoch [1/100],Test Loss: 0.15071224\n"
     ]
    },
    {
     "name": "stderr",
     "output_type": "stream",
     "text": [
      "  2%|▏         | 2/100 [00:04<03:20,  2.05s/epoch]"
     ]
    },
    {
     "name": "stdout",
     "output_type": "stream",
     "text": [
      "Epoch [2/100],Test Loss: 0.13096102\n",
      "Epoch [2/100],Test Loss: 0.12141052\n"
     ]
    },
    {
     "name": "stderr",
     "output_type": "stream",
     "text": [
      "  3%|▎         | 3/100 [00:06<03:17,  2.04s/epoch]"
     ]
    },
    {
     "name": "stdout",
     "output_type": "stream",
     "text": [
      "Epoch [3/100],Test Loss: 0.10931609\n",
      "Epoch [3/100],Test Loss: 0.10897175\n"
     ]
    },
    {
     "name": "stderr",
     "output_type": "stream",
     "text": [
      "  4%|▍         | 4/100 [00:08<03:15,  2.04s/epoch]"
     ]
    },
    {
     "name": "stdout",
     "output_type": "stream",
     "text": [
      "Epoch [4/100],Test Loss: 0.09845803\n",
      "Epoch [4/100],Test Loss: 0.10409175\n"
     ]
    },
    {
     "name": "stderr",
     "output_type": "stream",
     "text": [
      "  5%|▌         | 5/100 [00:10<03:12,  2.02s/epoch]"
     ]
    },
    {
     "name": "stdout",
     "output_type": "stream",
     "text": [
      "Epoch [5/100],Test Loss: 0.09154177\n",
      "Epoch [5/100],Test Loss: 0.09812926\n"
     ]
    },
    {
     "name": "stderr",
     "output_type": "stream",
     "text": [
      "  6%|▌         | 6/100 [00:12<03:10,  2.03s/epoch]"
     ]
    },
    {
     "name": "stdout",
     "output_type": "stream",
     "text": [
      "Epoch [6/100],Test Loss: 0.08526246\n",
      "Epoch [6/100],Test Loss: 0.09137511\n"
     ]
    },
    {
     "name": "stderr",
     "output_type": "stream",
     "text": [
      "  7%|▋         | 7/100 [00:14<03:07,  2.02s/epoch]"
     ]
    },
    {
     "name": "stdout",
     "output_type": "stream",
     "text": [
      "Epoch [7/100],Test Loss: 0.07829693\n",
      "Epoch [7/100],Test Loss: 0.08751514\n"
     ]
    },
    {
     "name": "stderr",
     "output_type": "stream",
     "text": [
      "  8%|▊         | 8/100 [00:16<03:06,  2.02s/epoch]"
     ]
    },
    {
     "name": "stdout",
     "output_type": "stream",
     "text": [
      "Epoch [8/100],Test Loss: 0.07119254\n",
      "Epoch [8/100],Test Loss: 0.08047289\n"
     ]
    },
    {
     "name": "stderr",
     "output_type": "stream",
     "text": [
      "  9%|▉         | 9/100 [00:18<03:03,  2.01s/epoch]"
     ]
    },
    {
     "name": "stdout",
     "output_type": "stream",
     "text": [
      "Epoch [9/100],Test Loss: 0.06394909\n",
      "Epoch [9/100],Test Loss: 0.07525681\n"
     ]
    },
    {
     "name": "stderr",
     "output_type": "stream",
     "text": [
      " 10%|█         | 10/100 [00:20<03:01,  2.02s/epoch]"
     ]
    },
    {
     "name": "stdout",
     "output_type": "stream",
     "text": [
      "Epoch [10/100],Test Loss: 0.05799600\n",
      "Epoch [10/100],Test Loss: 0.07092502\n"
     ]
    },
    {
     "name": "stderr",
     "output_type": "stream",
     "text": [
      " 11%|█         | 11/100 [00:22<03:00,  2.03s/epoch]"
     ]
    },
    {
     "name": "stdout",
     "output_type": "stream",
     "text": [
      "Epoch [11/100],Test Loss: 0.05289765\n",
      "Epoch [11/100],Test Loss: 0.06705735\n"
     ]
    },
    {
     "name": "stderr",
     "output_type": "stream",
     "text": [
      " 12%|█▏        | 12/100 [00:24<02:59,  2.04s/epoch]"
     ]
    },
    {
     "name": "stdout",
     "output_type": "stream",
     "text": [
      "Epoch [12/100],Test Loss: 0.04795921\n",
      "Epoch [12/100],Test Loss: 0.06568427\n"
     ]
    },
    {
     "name": "stderr",
     "output_type": "stream",
     "text": [
      " 13%|█▎        | 13/100 [00:26<02:57,  2.04s/epoch]"
     ]
    },
    {
     "name": "stdout",
     "output_type": "stream",
     "text": [
      "Epoch [13/100],Test Loss: 0.04443617\n",
      "Epoch [13/100],Test Loss: 0.06377606\n"
     ]
    },
    {
     "name": "stderr",
     "output_type": "stream",
     "text": [
      " 14%|█▍        | 14/100 [00:28<02:54,  2.03s/epoch]"
     ]
    },
    {
     "name": "stdout",
     "output_type": "stream",
     "text": [
      "Epoch [14/100],Test Loss: 0.04127703\n",
      "Epoch [14/100],Test Loss: 0.06358628\n"
     ]
    },
    {
     "name": "stderr",
     "output_type": "stream",
     "text": [
      " 15%|█▌        | 15/100 [00:30<02:52,  2.03s/epoch]"
     ]
    },
    {
     "name": "stdout",
     "output_type": "stream",
     "text": [
      "Epoch [15/100],Test Loss: 0.03779469\n",
      "Epoch [15/100],Test Loss: 0.06187627\n"
     ]
    },
    {
     "name": "stderr",
     "output_type": "stream",
     "text": [
      " 17%|█▋        | 17/100 [00:34<02:48,  2.03s/epoch]"
     ]
    },
    {
     "name": "stdout",
     "output_type": "stream",
     "text": [
      "Epoch [17/100],Test Loss: 0.03314985\n",
      "Epoch [17/100],Test Loss: 0.05900122\n"
     ]
    },
    {
     "name": "stderr",
     "output_type": "stream",
     "text": [
      "100%|██████████| 100/100 [03:22<00:00,  2.02s/epoch]"
     ]
    },
    {
     "name": "stdout",
     "output_type": "stream",
     "text": [
      "Finished Training, best epoch: 16\n"
     ]
    },
    {
     "name": "stderr",
     "output_type": "stream",
     "text": [
      "\n"
     ]
    }
   ],
   "source": [
    "# Create an instance of the model\n",
    "model = SimpleCNN().to(device)\n",
    "best_model = model\n",
    "\n",
    "# Initialize the model, loss function, and optimizer\n",
    "criterion = torch.nn.BCEWithLogitsLoss()\n",
    "optimizer = torch.optim.Adam(model.parameters(), lr=1e-4)\n",
    "\n",
    "# Train the model\n",
    "epochs = 100\n",
    "best_val_loss = 1000\n",
    "for epoch in tqdm(range(epochs), unit='epoch'):  # Loop over the dataset multiple times\n",
    "\n",
    "    model.train()\n",
    "    train_loss = []\n",
    "    for i, data in enumerate(train_loader, 0):\n",
    "        inputs, labels = data\n",
    "        inputs = inputs.to(device)\n",
    "        labels = labels.to(device)\n",
    "\n",
    "        optimizer.zero_grad()\n",
    "\n",
    "        outputs = model(inputs)\n",
    "        loss = criterion(outputs, labels)\n",
    "\n",
    "        loss.backward()\n",
    "        optimizer.step()\n",
    "\n",
    "        train_loss.append(loss.item())\n",
    "\n",
    "    model.eval()\n",
    "    test_loss = []\n",
    "    for i, data in enumerate(test_loader, 0):\n",
    "        inputs, labels = data\n",
    "        inputs = inputs.to(device)\n",
    "        labels = labels.to(device)\n",
    "\n",
    "        with torch.no_grad():\n",
    "            output = model(inputs)\n",
    "        \n",
    "        test_loss.append(criterion(output, labels).cpu().item())\n",
    "\n",
    "    train_loss = np.mean(train_loss)\n",
    "    test_loss = np.mean(test_loss)\n",
    "    # print(f'Epoch [{epoch+1}/{epochs}],Test Loss: {train_loss:.8f}')\n",
    "    # print(f'Epoch [{epoch+1}/{epochs}],Test Loss: {test_loss:.8f}')\n",
    "    if best_val_loss > test_loss:\n",
    "        best_val_loss = test_loss\n",
    "        best_model = model\n",
    "        best_epoch = epoch\n",
    "        print(f'Epoch [{epoch+1}/{epochs}],Test Loss: {train_loss:.8f}')\n",
    "        print(f'Epoch [{epoch+1}/{epochs}],Test Loss: {test_loss:.8f}')\n",
    "\n",
    "\n",
    "print(f'Finished Training, best epoch: {best_epoch}')"
   ]
  },
  {
   "cell_type": "code",
   "execution_count": null,
   "metadata": {},
   "outputs": [],
   "source": []
  }
 ],
 "metadata": {
  "kernelspec": {
   "display_name": "adlcv",
   "language": "python",
   "name": "python3"
  },
  "language_info": {
   "codemirror_mode": {
    "name": "ipython",
    "version": 3
   },
   "file_extension": ".py",
   "mimetype": "text/x-python",
   "name": "python",
   "nbconvert_exporter": "python",
   "pygments_lexer": "ipython3",
   "version": "3.10.10"
  }
 },
 "nbformat": 4,
 "nbformat_minor": 2
}
