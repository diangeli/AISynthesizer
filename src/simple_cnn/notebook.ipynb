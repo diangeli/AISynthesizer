{
 "cells": [
  {
   "cell_type": "code",
   "execution_count": 1,
   "metadata": {},
   "outputs": [],
   "source": [
    "import torch\n",
    "import torch.nn as nn\n",
    "import torch.optim as optim\n",
    "from torch.utils.data import Dataset, DataLoader, random_split\n",
    "from torchvision.transforms import ToTensor\n",
    "import torchvision.transforms as transforms\n",
    "import torchvision.models as models\n",
    "\n",
    "import numpy as np\n",
    "import os\n",
    "from PIL import Image\n",
    "import matplotlib.pyplot as plt\n",
    "from tqdm import tqdm"
   ]
  },
  {
   "cell_type": "code",
   "execution_count": 2,
   "metadata": {},
   "outputs": [],
   "source": [
    "class FramesDataset(Dataset):\n",
    "    def __init__(self, frames_dir, class_num, transforms=None):\n",
    "        self.frames_dir = frames_dir\n",
    "        self.transforms = transforms\n",
    "        self.class_num = class_num\n",
    "\n",
    "        self.frames = [[os.path.join(frames_dir, file), file.split('.')[0].split('_')] for file in os.listdir(frames_dir)]\n",
    "        \n",
    "    def __len__(self):\n",
    "        return len(self.frames)\n",
    "\n",
    "    def __getitem__(self, idx):\n",
    "        frame_path = self.frames[idx][0]\n",
    "        frame_tensor = self.transforms(self.load_frame(frame_path))\n",
    "        labels = self.frames[idx][1]\n",
    "        label_tensor = self.get_label(labels)\n",
    "        return [frame_tensor, label_tensor]\n",
    "\n",
    "    def load_frame(self, frame_path):\n",
    "        frame = (Image.open(frame_path))\n",
    "        return frame\n",
    "    \n",
    "    def get_label(self, label):\n",
    "        tensor_label = torch.zeros(self.class_num)\n",
    "        for i in range(len(label)):\n",
    "            tensor_label[int(label[i])] = 1\n",
    "        return tensor_label\n"
   ]
  },
  {
   "cell_type": "code",
   "execution_count": 8,
   "metadata": {},
   "outputs": [],
   "source": [
    "def save(model_name, best_model, train_loss, test_loss, accuracy):\n",
    "    path = os.path.join('results', model_name)\n",
    "    if not os.path.exists(path):\n",
    "        os.makedirs(path)\n",
    "\n",
    "    np.save(os.path.join(path, 'train_loss.npy'), np.array(train_loss))\n",
    "    np.save(os.path.join(path, 'test_loss.npy'), np.array(test_loss))\n",
    "    np.save(os.path.join(path, 'accuracy.npy'), np.array(accuracy))\n",
    "    torch.save(best_model.state_dict(), os.path.join(path, 'model.pt'))\n",
    "    return"
   ]
  },
  {
   "cell_type": "code",
   "execution_count": 4,
   "metadata": {},
   "outputs": [
    {
     "data": {
      "text/plain": [
       "device(type='cuda')"
      ]
     },
     "execution_count": 4,
     "metadata": {},
     "output_type": "execute_result"
    }
   ],
   "source": [
    "device = torch.device('cuda' if torch.cuda.is_available() else 'cpu')\n",
    "device"
   ]
  },
  {
   "cell_type": "code",
   "execution_count": 5,
   "metadata": {},
   "outputs": [],
   "source": [
    "# Define transforms for the images\n",
    "transform = transforms.Compose([\n",
    "    transforms.Resize((224, 224)), \n",
    "    transforms.ToTensor(),  \n",
    "    transforms.Normalize(mean=[0.5, 0.5, 0.5], std=[0.5, 0.5, 0.5]),\n",
    "])\n",
    "\n",
    "dataset = FramesDataset('note_frames_multi/', 91, transforms=transform)\n",
    "# train_loader = DataLoader(dataset, batch_size=4, shuffle=True, num_workers=2)\n",
    "\n",
    "train_size = int(0.8 * len(dataset))\n",
    "test_size = len(dataset) - train_size\n",
    "train_dataset, test_dataset = random_split(dataset, [train_size, test_size])\n",
    "\n",
    "train_loader = DataLoader(train_dataset, batch_size=64, shuffle=True, num_workers=4)\n",
    "test_loader = DataLoader(test_dataset, batch_size=64, shuffle=False, num_workers=4)"
   ]
  },
  {
   "cell_type": "code",
   "execution_count": 6,
   "metadata": {},
   "outputs": [],
   "source": [
    "class Classifier(nn.Module):\n",
    "    def __init__(self, num_classes=91, encoder='simple', pretrained=False):\n",
    "        super(Classifier, self).__init__()\n",
    "\n",
    "        self.encoder_type = encoder\n",
    "        if pretrained:\n",
    "            self.weights = 'IMAGENET1K_V1'\n",
    "        else: \n",
    "            self.weights = None\n",
    "\n",
    "        if encoder == 'simple':\n",
    "            self.encoder = nn.Sequential(\n",
    "                nn.Conv2d(3, 6, kernel_size=5),\n",
    "                nn.ReLU(),\n",
    "                nn.MaxPool2d(2, 2), \n",
    "                nn.Conv2d(6, 16, kernel_size=5),\n",
    "                nn.ReLU(),\n",
    "                nn.MaxPool2d(2, 2), \n",
    "                nn.Flatten()\n",
    "            )            \n",
    "\n",
    "            self. decoder = nn.Sequential(\n",
    "                nn.Linear(16 * 53 * 53, 120),\n",
    "                nn.ReLU(),\n",
    "                nn.Linear(120, num_classes)\n",
    "            )\n",
    "\n",
    "        else:\n",
    "            if encoder == 'resnet50':\n",
    "                self.encoder = models.resnet50(weights=self.weights)\n",
    "            elif encoder == 'resnet18':\n",
    "                self.encoder = models.resnet18(weights=self.weights)\n",
    "            elif encoder == 'vit16':\n",
    "                self.encoder = models.vit_b_16(weights=self.weights)\n",
    "            elif encoder == 'vit32':\n",
    "                self.encoder = models.vit_b_32(weights=self.weights)\n",
    "\n",
    "            self.decoder = nn.Sequential(\n",
    "                nn.Linear(1000, 120),\n",
    "                nn.ReLU(),\n",
    "                nn.Linear(120, num_classes)\n",
    "            )\n",
    "        \n",
    "        \n",
    "\n",
    "    def forward(self, x):\n",
    "        x = self.encoder(x)  # Apply first convolution, ReLU activation, and max pooling\n",
    "        x = self.decoder(x) # Apply third fully connected layer (no activation)\n",
    "        return x"
   ]
  },
  {
   "cell_type": "code",
   "execution_count": 7,
   "metadata": {},
   "outputs": [],
   "source": [
    "def train(model, criterion, optimizer, epochs, train_loader, test_loader):\n",
    "    # Train the model\n",
    "    best_model = model\n",
    "    criterion = criterion\n",
    "    optimizer = optimizer\n",
    "\n",
    "    epochs = epochs\n",
    "    best_val_loss = 1000\n",
    "    test_loss_all = []\n",
    "    train_loss_all = []\n",
    "    accuracy_all = []\n",
    "    for epoch in tqdm(range(epochs), unit='epoch'):  # Loop over the dataset multiple times\n",
    "\n",
    "        model.train()\n",
    "        train_loss = []\n",
    "        for i, data in enumerate(train_loader, 0):\n",
    "            inputs, labels = data\n",
    "            inputs = inputs.to(device)\n",
    "            labels = labels.to(device)\n",
    "\n",
    "            optimizer.zero_grad()\n",
    "\n",
    "            output = model(inputs)\n",
    "            loss = criterion(output, labels)\n",
    "\n",
    "            loss.backward()\n",
    "            optimizer.step()\n",
    "\n",
    "            train_loss.append(loss.item())\n",
    "\n",
    "        model.eval()\n",
    "        test_loss = []\n",
    "        correct = 0\n",
    "        total = 0\n",
    "        with torch.no_grad():\n",
    "            for i, data in enumerate(test_loader, 0):\n",
    "                inputs, labels = data\n",
    "                inputs = inputs.to(device)\n",
    "                labels = labels.to(device)\n",
    "\n",
    "                output = model(inputs)\n",
    "                test_loss.append(criterion(output, labels).cpu().item())\n",
    "\n",
    "                outputs = torch.sigmoid(output).cpu()\n",
    "                predicted = np.round(outputs)\n",
    "                total += labels.size(0)*labels.size(1)\n",
    "                correct += (predicted == labels.cpu()).sum().item()\n",
    "                \n",
    "        accuracy = 100*correct/total\n",
    "        accuracy_all.append(accuracy)\n",
    "        print(f'Epoch [{epoch+1}/{epochs}],Accuracy: {accuracy:.4f}%')\n",
    "\n",
    "        train_loss = np.mean(train_loss)\n",
    "        test_loss = np.mean(test_loss)\n",
    "        train_loss_all.append(train_loss)\n",
    "        test_loss_all.append(test_loss)\n",
    "\n",
    "        if best_val_loss > test_loss:\n",
    "            best_val_loss = test_loss\n",
    "            best_model = model\n",
    "            best_epoch = epoch\n",
    "            print(f'Epoch [{epoch+1}/{epochs}],Test Loss: {train_loss:.8f}')\n",
    "            print(f'Epoch [{epoch+1}/{epochs}],Test Loss: {test_loss:.8f}')\n",
    "\n",
    "        \n",
    "    print(f'Finished Training, best epoch: {best_epoch}')\n",
    "    return best_model, train_loss_all, test_loss_all, accuracy_all"
   ]
  },
  {
   "cell_type": "code",
   "execution_count": 1,
   "metadata": {},
   "outputs": [
    {
     "name": "stdout",
     "output_type": "stream",
     "text": [
      "simpleCNN\n",
      "ResNet18\n",
      "ResNet50\n",
      "ViT16\n",
      "ViT32\n"
     ]
    }
   ],
   "source": [
    "models = {\n",
    "    'simpleCNN': 'simple',\n",
    "    'ResNet18': 'resnet18',\n",
    "    'ResNet50': 'resnet50',\n",
    "    'ViT16': 'vit16',\n",
    "    'ViT32': 'vit32'\n",
    "}"
   ]
  },
  {
   "cell_type": "code",
   "execution_count": null,
   "metadata": {},
   "outputs": [],
   "source": [
    "# Train models non pretrained\n",
    "for key in models.keys():\n",
    "    # Create an instance of the model\n",
    "    model = Classifier(encoder=models[key]).to(device)\n",
    "    criterion = torch.nn.BCEWithLogitsLoss()\n",
    "    optimizer = torch.optim.Adam(model.parameters(), lr=1e-4)\n",
    "\n",
    "    best_model, train_loss, test_loss, accuracy = train(model, criterion, optimizer, 100, train_loader, test_loader)\n",
    "    save(key, best_model, train_loss, test_loss, accuracy)"
   ]
  },
  {
   "cell_type": "code",
   "execution_count": null,
   "metadata": {},
   "outputs": [],
   "source": []
  }
 ],
 "metadata": {
  "kernelspec": {
   "display_name": "adlcv",
   "language": "python",
   "name": "python3"
  },
  "language_info": {
   "codemirror_mode": {
    "name": "ipython",
    "version": 3
   },
   "file_extension": ".py",
   "mimetype": "text/x-python",
   "name": "python",
   "nbconvert_exporter": "python",
   "pygments_lexer": "ipython3",
   "version": "3.10.10"
  }
 },
 "nbformat": 4,
 "nbformat_minor": 2
}
